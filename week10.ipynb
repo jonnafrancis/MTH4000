{
 "cells": [
  {
   "cell_type": "markdown",
   "metadata": {},
   "source": [
    "**Week 10 assessment**"
   ]
  },
  {
   "cell_type": "code",
   "execution_count": 1,
   "metadata": {},
   "outputs": [],
   "source": [
    "import numpy as np\n",
    "from PIL import Image\n",
    "from IPython.display import display\n",
    "\n",
    "width, height = 512, 512\n",
    "xmin, xmax, ymin, ymax = -2.25, 0.75, -1.5, 1.5\n",
    "\n",
    "x, y = np.linspace(xmin, xmax, width), np.linspace(ymin, ymax, height)\n",
    "X, Y = np.meshgrid(x, y)\n",
    "C = X + 1j * Y\n",
    "Z = np.zeros_like(C)\n",
    "iterations = 100\n",
    "\n",
    "image = np.zeros(C.shape, dtype=float)\n",
    "\n",
    "for i in range(iterations):\n",
    "    Z = Z**2 + C\n",
    "    mask = np.abs(Z) < 1000\n",
    "    image += mask\n",
    "\n",
    "image = np.log(image + 1) \n",
    "image = np.uint8(255 * image / image.max()) \n",
    "\n",
    "img = Image.fromarray(image)\n",
    "display(img)\n"
   ]
  },
  {
   "cell_type": "code",
   "execution_count": null,
   "metadata": {},
   "outputs": [],
   "source": []
  }
 ],
 "metadata": {
  "kernelspec": {
   "display_name": "Python 3 (ipykernel)",
   "language": "python",
   "name": "python3"
  }
 },
 "nbformat": 4,
 "nbformat_minor": 2
}
