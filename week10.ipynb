{
 "cells": [
  {
   "cell_type": "markdown",
   "metadata": {},
   "source": [
    "**Week 10 assessment**"
   ]
  },
  {
   "cell_type": "code",
   "execution_count": 1,
   "metadata": {},
   "outputs": [],
   "source": [
    "import numpy as np\n",
    "from PIL import Image\n",
    "from IPython.display import display\n",
    "\n",
    "# Define the size of the image and the region of the complex plane to visualize\n",
    "width, height = 512, 512\n",
    "xmin, xmax, ymin, ymax = -2.25, 0.75, -1.5, 1.5\n",
    "\n",
    "# Generate the Mandelbrot set using numpy\n",
    "x, y = np.linspace(xmin, xmax, width), np.linspace(ymin, ymax, height)\n",
    "X, Y = np.meshgrid(x, y)\n",
    "C = X + 1j * Y\n",
    "Z = np.zeros_like(C)\n",
    "iterations = 100\n",
    "\n",
    "# Create an array to store the number of iterations per point\n",
    "image = np.zeros(C.shape, dtype=float)\n",
    "\n",
    "for i in range(iterations):\n",
    "    Z = Z**2 + C\n",
    "    mask = np.abs(Z) < 1000\n",
    "    image += mask\n",
    "\n",
    "# Normalize the image to the range 0-255 for display\n",
    "image = np.log(image + 1)  # Apply a logarithmic scale for better visualization\n",
    "image = np.uint8(255 * image / image.max())  # Scale to 0-255 and convert to uint8\n",
    "\n",
    "# Convert the array to a PIL Image and display it\n",
    "img = Image.fromarray(image)\n",
    "display(img)\n"
   ]
  },
  {
   "cell_type": "code",
   "execution_count": null,
   "metadata": {},
   "outputs": [],
   "source": []
  }
 ],
 "metadata": {
  "kernelspec": {
   "display_name": "Python 3 (ipykernel)",
   "language": "python",
   "name": "python3"
  }
 },
 "nbformat": 4,
 "nbformat_minor": 2
}
